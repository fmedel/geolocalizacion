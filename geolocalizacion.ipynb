{
 "cells": [
  {
   "cell_type": "code",
   "execution_count": 1,
   "metadata": {},
   "outputs": [],
   "source": [
    "import requests"
   ]
  },
  {
   "cell_type": "code",
   "execution_count": 2,
   "metadata": {},
   "outputs": [],
   "source": [
    "import pandas as pd"
   ]
  },
  {
   "cell_type": "code",
   "execution_count": 3,
   "metadata": {},
   "outputs": [],
   "source": [
    "import time "
   ]
  },
  {
   "cell_type": "code",
   "execution_count": 4,
   "metadata": {},
   "outputs": [],
   "source": [
    "f = open('algo.csv','r')\n",
    "data = pd.read_csv(f)"
   ]
  },
  {
   "cell_type": "code",
   "execution_count": 5,
   "metadata": {},
   "outputs": [
    {
     "data": {
      "text/html": [
       "<div>\n",
       "<style scoped>\n",
       "    .dataframe tbody tr th:only-of-type {\n",
       "        vertical-align: middle;\n",
       "    }\n",
       "\n",
       "    .dataframe tbody tr th {\n",
       "        vertical-align: top;\n",
       "    }\n",
       "\n",
       "    .dataframe thead th {\n",
       "        text-align: right;\n",
       "    }\n",
       "</style>\n",
       "<table border=\"1\" class=\"dataframe\">\n",
       "  <thead>\n",
       "    <tr style=\"text-align: right;\">\n",
       "      <th></th>\n",
       "      <th>Direcciones</th>\n",
       "      <th>comuna</th>\n",
       "      <th>pais</th>\n",
       "    </tr>\n",
       "  </thead>\n",
       "  <tbody>\n",
       "    <tr>\n",
       "      <th>0</th>\n",
       "      <td>UTEM - Las Palmeras</td>\n",
       "      <td>Ñuñoa</td>\n",
       "      <td>chile</td>\n",
       "    </tr>\n",
       "    <tr>\n",
       "      <th>1</th>\n",
       "      <td>Las Palmeras 3360</td>\n",
       "      <td>Ñuñoa</td>\n",
       "      <td>chile</td>\n",
       "    </tr>\n",
       "    <tr>\n",
       "      <th>2</th>\n",
       "      <td>Dr. Hernán Alessandri 644</td>\n",
       "      <td>Providencia</td>\n",
       "      <td>chile</td>\n",
       "    </tr>\n",
       "  </tbody>\n",
       "</table>\n",
       "</div>"
      ],
      "text/plain": [
       "                 Direcciones        comuna   pais\n",
       "0        UTEM - Las Palmeras         Ñuñoa  chile\n",
       "1          Las Palmeras 3360         Ñuñoa  chile\n",
       "2  Dr. Hernán Alessandri 644   Providencia  chile"
      ]
     },
     "execution_count": 5,
     "metadata": {},
     "output_type": "execute_result"
    }
   ],
   "source": [
    "data"
   ]
  },
  {
   "cell_type": "code",
   "execution_count": 6,
   "metadata": {},
   "outputs": [],
   "source": [
    "def coordenadas(direccion):\n",
    "    time.sleep(1)\n",
    "    params = {\n",
    "        'address': direccion,\n",
    "        'region:': 'chile',\n",
    "        'sensor': 'false'\n",
    "    }\n",
    "    \n",
    "    req = requests.get('http://maps.googleapis.com/maps/api/geocode/json', params=params)\n",
    "    res = req.json()\n",
    "    result = res['results'][0]\n",
    "\n",
    "    \n",
    "    dirrecion = dict()\n",
    "    dirrecion['lat'] = result['geometry']['location']['lat']\n",
    "    dirrecion['lng'] = result['geometry']['location']['lng']\n",
    "    dirrecion['address'] = result['formatted_address']\n",
    "    \n",
    "    return dirrecion"
   ]
  },
  {
   "cell_type": "code",
   "execution_count": 7,
   "metadata": {},
   "outputs": [],
   "source": [
    "data['completo']=data['Direcciones']+\",\"+data['comuna']+\",\"+data['pais']\n"
   ]
  },
  {
   "cell_type": "code",
   "execution_count": 8,
   "metadata": {},
   "outputs": [],
   "source": [
    "stack_a=[]\n",
    "for x in data['completo']:\n",
    "    stack_a.append(coordenadas(x))\n",
    "    \n",
    "\n",
    "    "
   ]
  },
  {
   "cell_type": "code",
   "execution_count": 9,
   "metadata": {},
   "outputs": [],
   "source": [
    "stack_la=[]\n",
    "stack_lo=[]\n",
    "for x in stack_a:\n",
    "    stack_la.append(x['lat'])\n",
    "    stack_lo.append(x['lng'])"
   ]
  },
  {
   "cell_type": "code",
   "execution_count": 10,
   "metadata": {},
   "outputs": [],
   "source": [
    "data['lat']=stack_la\n",
    "data['log']=stack_lo"
   ]
  },
  {
   "cell_type": "code",
   "execution_count": 12,
   "metadata": {},
   "outputs": [],
   "source": [
    "data.drop('completo', axis=1, inplace=True)"
   ]
  },
  {
   "cell_type": "code",
   "execution_count": 13,
   "metadata": {},
   "outputs": [
    {
     "data": {
      "text/html": [
       "<div>\n",
       "<style scoped>\n",
       "    .dataframe tbody tr th:only-of-type {\n",
       "        vertical-align: middle;\n",
       "    }\n",
       "\n",
       "    .dataframe tbody tr th {\n",
       "        vertical-align: top;\n",
       "    }\n",
       "\n",
       "    .dataframe thead th {\n",
       "        text-align: right;\n",
       "    }\n",
       "</style>\n",
       "<table border=\"1\" class=\"dataframe\">\n",
       "  <thead>\n",
       "    <tr style=\"text-align: right;\">\n",
       "      <th></th>\n",
       "      <th>Direcciones</th>\n",
       "      <th>comuna</th>\n",
       "      <th>pais</th>\n",
       "      <th>lat</th>\n",
       "      <th>log</th>\n",
       "    </tr>\n",
       "  </thead>\n",
       "  <tbody>\n",
       "    <tr>\n",
       "      <th>0</th>\n",
       "      <td>UTEM - Las Palmeras</td>\n",
       "      <td>Ñuñoa</td>\n",
       "      <td>chile</td>\n",
       "      <td>-33.466503</td>\n",
       "      <td>-70.596962</td>\n",
       "    </tr>\n",
       "    <tr>\n",
       "      <th>1</th>\n",
       "      <td>Las Palmeras 3360</td>\n",
       "      <td>Ñuñoa</td>\n",
       "      <td>chile</td>\n",
       "      <td>-33.466175</td>\n",
       "      <td>-70.597057</td>\n",
       "    </tr>\n",
       "    <tr>\n",
       "      <th>2</th>\n",
       "      <td>Dr. Hernán Alessandri 644</td>\n",
       "      <td>Providencia</td>\n",
       "      <td>chile</td>\n",
       "      <td>-33.434595</td>\n",
       "      <td>-70.625450</td>\n",
       "    </tr>\n",
       "  </tbody>\n",
       "</table>\n",
       "</div>"
      ],
      "text/plain": [
       "                 Direcciones        comuna   pais        lat        log\n",
       "0        UTEM - Las Palmeras         Ñuñoa  chile -33.466503 -70.596962\n",
       "1          Las Palmeras 3360         Ñuñoa  chile -33.466175 -70.597057\n",
       "2  Dr. Hernán Alessandri 644   Providencia  chile -33.434595 -70.625450"
      ]
     },
     "execution_count": 13,
     "metadata": {},
     "output_type": "execute_result"
    }
   ],
   "source": [
    "data"
   ]
  },
  {
   "cell_type": "code",
   "execution_count": 14,
   "metadata": {},
   "outputs": [],
   "source": [
    "data.to_csv('final.csv', encoding='utf-8', index=False)"
   ]
  },
  {
   "cell_type": "code",
   "execution_count": 15,
   "metadata": {},
   "outputs": [
    {
     "data": {
      "text/html": [
       "<div>\n",
       "<style scoped>\n",
       "    .dataframe tbody tr th:only-of-type {\n",
       "        vertical-align: middle;\n",
       "    }\n",
       "\n",
       "    .dataframe tbody tr th {\n",
       "        vertical-align: top;\n",
       "    }\n",
       "\n",
       "    .dataframe thead th {\n",
       "        text-align: right;\n",
       "    }\n",
       "</style>\n",
       "<table border=\"1\" class=\"dataframe\">\n",
       "  <thead>\n",
       "    <tr style=\"text-align: right;\">\n",
       "      <th></th>\n",
       "      <th>Direcciones</th>\n",
       "      <th>comuna</th>\n",
       "      <th>pais</th>\n",
       "      <th>lat</th>\n",
       "      <th>log</th>\n",
       "    </tr>\n",
       "  </thead>\n",
       "  <tbody>\n",
       "    <tr>\n",
       "      <th>0</th>\n",
       "      <td>UTEM - Las Palmeras</td>\n",
       "      <td>Ñuñoa</td>\n",
       "      <td>chile</td>\n",
       "      <td>-33.466503</td>\n",
       "      <td>-70.596962</td>\n",
       "    </tr>\n",
       "    <tr>\n",
       "      <th>1</th>\n",
       "      <td>Las Palmeras 3360</td>\n",
       "      <td>Ñuñoa</td>\n",
       "      <td>chile</td>\n",
       "      <td>-33.466175</td>\n",
       "      <td>-70.597057</td>\n",
       "    </tr>\n",
       "    <tr>\n",
       "      <th>2</th>\n",
       "      <td>Dr. Hernán Alessandri 644</td>\n",
       "      <td>Providencia</td>\n",
       "      <td>chile</td>\n",
       "      <td>-33.434595</td>\n",
       "      <td>-70.625450</td>\n",
       "    </tr>\n",
       "  </tbody>\n",
       "</table>\n",
       "</div>"
      ],
      "text/plain": [
       "                 Direcciones        comuna   pais        lat        log\n",
       "0        UTEM - Las Palmeras         Ñuñoa  chile -33.466503 -70.596962\n",
       "1          Las Palmeras 3360         Ñuñoa  chile -33.466175 -70.597057\n",
       "2  Dr. Hernán Alessandri 644   Providencia  chile -33.434595 -70.625450"
      ]
     },
     "execution_count": 15,
     "metadata": {},
     "output_type": "execute_result"
    }
   ],
   "source": [
    "#para exportar datos\n",
    "f2 = open('final.csv','r')\n",
    "final = pd.read_csv(f2)\n",
    "final"
   ]
  },
  {
   "cell_type": "code",
   "execution_count": null,
   "metadata": {},
   "outputs": [],
   "source": []
  }
 ],
 "metadata": {
  "kernelspec": {
   "display_name": "Python 3",
   "language": "python",
   "name": "python3"
  },
  "language_info": {
   "codemirror_mode": {
    "name": "ipython",
    "version": 3
   },
   "file_extension": ".py",
   "mimetype": "text/x-python",
   "name": "python",
   "nbconvert_exporter": "python",
   "pygments_lexer": "ipython3",
   "version": "3.6.5"
  }
 },
 "nbformat": 4,
 "nbformat_minor": 2
}
