{
 "cells": [
  {
   "cell_type": "code",
   "execution_count": 1,
   "metadata": {},
   "outputs": [],
   "source": [
    "import requests"
   ]
  },
  {
   "cell_type": "code",
   "execution_count": 2,
   "metadata": {},
   "outputs": [],
   "source": [
    "import pandas as pd"
   ]
  },
  {
   "cell_type": "code",
   "execution_count": 3,
   "metadata": {},
   "outputs": [],
   "source": [
    "import time "
   ]
  },
  {
   "cell_type": "code",
   "execution_count": 4,
   "metadata": {},
   "outputs": [],
   "source": [
    "GOOGLE_MAPS_API_URL = 'http://maps.googleapis.com/maps/api/geocode/json'"
   ]
  },
  {
   "cell_type": "code",
   "execution_count": 5,
   "metadata": {},
   "outputs": [],
   "source": [
    "f = open('algo.csv','r')\n",
    "geo = pd.read_csv(f)"
   ]
  },
  {
   "cell_type": "code",
   "execution_count": 6,
   "metadata": {},
   "outputs": [
    {
     "data": {
      "text/html": [
       "<div>\n",
       "<style scoped>\n",
       "    .dataframe tbody tr th:only-of-type {\n",
       "        vertical-align: middle;\n",
       "    }\n",
       "\n",
       "    .dataframe tbody tr th {\n",
       "        vertical-align: top;\n",
       "    }\n",
       "\n",
       "    .dataframe thead th {\n",
       "        text-align: right;\n",
       "    }\n",
       "</style>\n",
       "<table border=\"1\" class=\"dataframe\">\n",
       "  <thead>\n",
       "    <tr style=\"text-align: right;\">\n",
       "      <th></th>\n",
       "      <th>Direcciones</th>\n",
       "      <th>comuna</th>\n",
       "      <th>pais</th>\n",
       "    </tr>\n",
       "  </thead>\n",
       "  <tbody>\n",
       "    <tr>\n",
       "      <th>0</th>\n",
       "      <td>UTEM - Las Palmeras</td>\n",
       "      <td>Ñuñoa</td>\n",
       "      <td>chile</td>\n",
       "    </tr>\n",
       "    <tr>\n",
       "      <th>1</th>\n",
       "      <td>Las Palmeras 3360</td>\n",
       "      <td>Ñuñoa</td>\n",
       "      <td>chile</td>\n",
       "    </tr>\n",
       "    <tr>\n",
       "      <th>2</th>\n",
       "      <td>Dr. Hernán Alessandri 644</td>\n",
       "      <td>Providencia</td>\n",
       "      <td>chile</td>\n",
       "    </tr>\n",
       "    <tr>\n",
       "      <th>3</th>\n",
       "      <td>pasaje domus 6223</td>\n",
       "      <td>la florida</td>\n",
       "      <td>chile</td>\n",
       "    </tr>\n",
       "    <tr>\n",
       "      <th>4</th>\n",
       "      <td>Don pepe 497</td>\n",
       "      <td>la florida</td>\n",
       "      <td>chile</td>\n",
       "    </tr>\n",
       "  </tbody>\n",
       "</table>\n",
       "</div>"
      ],
      "text/plain": [
       "                 Direcciones        comuna   pais\n",
       "0        UTEM - Las Palmeras         Ñuñoa  chile\n",
       "1          Las Palmeras 3360         Ñuñoa  chile\n",
       "2  Dr. Hernán Alessandri 644   Providencia  chile\n",
       "3         pasaje domus 6223     la florida  chile\n",
       "4               Don pepe 497    la florida  chile"
      ]
     },
     "execution_count": 6,
     "metadata": {},
     "output_type": "execute_result"
    }
   ],
   "source": [
    "geo"
   ]
  },
  {
   "cell_type": "code",
   "execution_count": 18,
   "metadata": {},
   "outputs": [],
   "source": [
    "def obtener_coordenadas2(direccion):\n",
    "    time.sleep(1)\n",
    "    params = {\n",
    "        'address': direccion,\n",
    "        'region:': 'chile',\n",
    "        'sensor': 'false'\n",
    "    }\n",
    "    \n",
    "    req = requests.get(GOOGLE_MAPS_API_URL, params=params)\n",
    "    res = req.json()\n",
    "    result = res['results'][0]\n",
    "\n",
    "    \n",
    "    geodata = dict()\n",
    "    geodata['lat'] = result['geometry']['location']['lat']\n",
    "    geodata['lng'] = result['geometry']['location']['lng']\n",
    "    geodata['address'] = result['formatted_address']\n",
    "    \n",
    "    return {\n",
    "        'latitud': geodata['lat'],\n",
    "        'longitud':  geodata['lng'],\n",
    "        'direccion': geodata['address'] \n",
    "    }\n",
    "    "
   ]
  },
  {
   "cell_type": "code",
   "execution_count": 19,
   "metadata": {},
   "outputs": [],
   "source": [
    "geo['completo']=geo['Direcciones']+\",\"+geo['comuna']+\",\"+geo['pais']\n"
   ]
  },
  {
   "cell_type": "code",
   "execution_count": 22,
   "metadata": {},
   "outputs": [],
   "source": [
    "stack_a=[]\n",
    "for x in geo['completo']:\n",
    "    stack_a.append(obtener_coordenadas2(x))\n",
    "    \n",
    "\n",
    "    "
   ]
  },
  {
   "cell_type": "code",
   "execution_count": 23,
   "metadata": {},
   "outputs": [],
   "source": [
    "stack_la=[]\n",
    "stack_lo=[]\n",
    "for x in stack_a:\n",
    "    stack_la.append(x['latitud'])\n",
    "    stack_lo.append(x['longitud'])"
   ]
  },
  {
   "cell_type": "code",
   "execution_count": 24,
   "metadata": {},
   "outputs": [],
   "source": [
    "geo['lat']=stack_la\n",
    "geo['log']=stack_lo"
   ]
  },
  {
   "cell_type": "code",
   "execution_count": 27,
   "metadata": {},
   "outputs": [],
   "source": [
    "geo.drop('completo', axis=1, inplace=True)"
   ]
  },
  {
   "cell_type": "code",
   "execution_count": 28,
   "metadata": {},
   "outputs": [
    {
     "data": {
      "text/html": [
       "<div>\n",
       "<style scoped>\n",
       "    .dataframe tbody tr th:only-of-type {\n",
       "        vertical-align: middle;\n",
       "    }\n",
       "\n",
       "    .dataframe tbody tr th {\n",
       "        vertical-align: top;\n",
       "    }\n",
       "\n",
       "    .dataframe thead th {\n",
       "        text-align: right;\n",
       "    }\n",
       "</style>\n",
       "<table border=\"1\" class=\"dataframe\">\n",
       "  <thead>\n",
       "    <tr style=\"text-align: right;\">\n",
       "      <th></th>\n",
       "      <th>Direcciones</th>\n",
       "      <th>comuna</th>\n",
       "      <th>pais</th>\n",
       "      <th>lat</th>\n",
       "      <th>log</th>\n",
       "    </tr>\n",
       "  </thead>\n",
       "  <tbody>\n",
       "    <tr>\n",
       "      <th>0</th>\n",
       "      <td>UTEM - Las Palmeras</td>\n",
       "      <td>Ñuñoa</td>\n",
       "      <td>chile</td>\n",
       "      <td>-33.466503</td>\n",
       "      <td>-70.596962</td>\n",
       "    </tr>\n",
       "    <tr>\n",
       "      <th>1</th>\n",
       "      <td>Las Palmeras 3360</td>\n",
       "      <td>Ñuñoa</td>\n",
       "      <td>chile</td>\n",
       "      <td>-33.466175</td>\n",
       "      <td>-70.597057</td>\n",
       "    </tr>\n",
       "    <tr>\n",
       "      <th>2</th>\n",
       "      <td>Dr. Hernán Alessandri 644</td>\n",
       "      <td>Providencia</td>\n",
       "      <td>chile</td>\n",
       "      <td>-33.434595</td>\n",
       "      <td>-70.625450</td>\n",
       "    </tr>\n",
       "    <tr>\n",
       "      <th>3</th>\n",
       "      <td>pasaje domus 6223</td>\n",
       "      <td>la florida</td>\n",
       "      <td>chile</td>\n",
       "      <td>-33.510127</td>\n",
       "      <td>-70.593416</td>\n",
       "    </tr>\n",
       "    <tr>\n",
       "      <th>4</th>\n",
       "      <td>Don pepe 497</td>\n",
       "      <td>la florida</td>\n",
       "      <td>chile</td>\n",
       "      <td>-33.527130</td>\n",
       "      <td>-70.602127</td>\n",
       "    </tr>\n",
       "  </tbody>\n",
       "</table>\n",
       "</div>"
      ],
      "text/plain": [
       "                 Direcciones        comuna   pais        lat        log\n",
       "0        UTEM - Las Palmeras         Ñuñoa  chile -33.466503 -70.596962\n",
       "1          Las Palmeras 3360         Ñuñoa  chile -33.466175 -70.597057\n",
       "2  Dr. Hernán Alessandri 644   Providencia  chile -33.434595 -70.625450\n",
       "3         pasaje domus 6223     la florida  chile -33.510127 -70.593416\n",
       "4               Don pepe 497    la florida  chile -33.527130 -70.602127"
      ]
     },
     "execution_count": 28,
     "metadata": {},
     "output_type": "execute_result"
    }
   ],
   "source": [
    "geo"
   ]
  },
  {
   "cell_type": "code",
   "execution_count": null,
   "metadata": {
    "collapsed": true
   },
   "outputs": [],
   "source": []
  }
 ],
 "metadata": {
  "kernelspec": {
   "display_name": "Python 3",
   "language": "python",
   "name": "python3"
  },
  "language_info": {
   "codemirror_mode": {
    "name": "ipython",
    "version": 3
   },
   "file_extension": ".py",
   "mimetype": "text/x-python",
   "name": "python",
   "nbconvert_exporter": "python",
   "pygments_lexer": "ipython3",
   "version": "3.6.5"
  }
 },
 "nbformat": 4,
 "nbformat_minor": 2
}
