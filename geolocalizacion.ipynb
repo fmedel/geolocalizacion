{
 "cells": [
  {
   "cell_type": "code",
   "execution_count": 1,
   "metadata": {},
   "outputs": [
    {
     "name": "stdout",
     "output_type": "stream",
     "text": [
      "(-33.4667062, -70.5967354)\n"
     ]
    }
   ],
   "source": [
    "#pip install pygeocoder\n",
    "from pygeocoder import Geocoder\n",
    "results = Geocoder.geocode(\"UTEM - Las Palmeras, Ñuñoa\")\n",
    "print(results[0].coordinates)"
   ]
  },
  {
   "cell_type": "code",
   "execution_count": 2,
   "metadata": {},
   "outputs": [
    {
     "name": "stdout",
     "output_type": "stream",
     "text": [
      "Las Palmeras 3360, Ñuñoa, Región Metropolitana, Chile. (lat, lng) = (-33.4667062, -70.5967354)\n"
     ]
    }
   ],
   "source": [
    "import requests\n",
    "\n",
    "GOOGLE_MAPS_API_URL = 'http://maps.googleapis.com/maps/api/geocode/json'\n",
    "\n",
    "params = {\n",
    "    'address': 'UTEM - Las Palmeras, Ñuñoa',\n",
    "    'sensor': 'false',\n",
    "    'region': 'chile'\n",
    "}\n",
    "\n",
    "# Do the request and get the response data\n",
    "req = requests.get(GOOGLE_MAPS_API_URL, params=params)\n",
    "res = req.json()\n",
    "\n",
    "# Use the first result\n",
    "result = res['results'][0]\n",
    "\n",
    "geodata = dict()\n",
    "geodata['lat'] = result['geometry']['location']['lat']\n",
    "geodata['lng'] = result['geometry']['location']['lng']\n",
    "geodata['address'] = result['formatted_address']\n",
    "\n",
    "print('{address}. (lat, lng) = ({lat}, {lng})'.format(**geodata))"
   ]
  }
 ],
 "metadata": {
  "kernelspec": {
   "display_name": "Python 3",
   "language": "python",
   "name": "python3"
  },
  "language_info": {
   "codemirror_mode": {
    "name": "ipython",
    "version": 3
   },
   "file_extension": ".py",
   "mimetype": "text/x-python",
   "name": "python",
   "nbconvert_exporter": "python",
   "pygments_lexer": "ipython3",
   "version": "3.6.5"
  }
 },
 "nbformat": 4,
 "nbformat_minor": 2
}
